{
 "cells": [
  {
   "attachments": {},
   "cell_type": "markdown",
   "metadata": {},
   "source": [
    "# Pymaceuticals Inc.\n",
    "---\n",
    "\n",
    "### Analysis\n",
    "\n",
    "- Add your analysis here.\n",
    " "
   ]
  },
  {
   "cell_type": "code",
   "execution_count": 1,
   "metadata": {},
   "outputs": [
    {
     "data": {
      "text/html": [
       "<div>\n",
       "<style scoped>\n",
       "    .dataframe tbody tr th:only-of-type {\n",
       "        vertical-align: middle;\n",
       "    }\n",
       "\n",
       "    .dataframe tbody tr th {\n",
       "        vertical-align: top;\n",
       "    }\n",
       "\n",
       "    .dataframe thead th {\n",
       "        text-align: right;\n",
       "    }\n",
       "</style>\n",
       "<table border=\"1\" class=\"dataframe\">\n",
       "  <thead>\n",
       "    <tr style=\"text-align: right;\">\n",
       "      <th></th>\n",
       "      <th>Mouse ID</th>\n",
       "      <th>Timepoint</th>\n",
       "      <th>Tumor Volume (mm3)</th>\n",
       "      <th>Metastatic Sites</th>\n",
       "      <th>Drug Regimen</th>\n",
       "      <th>Sex</th>\n",
       "      <th>Age_months</th>\n",
       "      <th>Weight (g)</th>\n",
       "    </tr>\n",
       "  </thead>\n",
       "  <tbody>\n",
       "    <tr>\n",
       "      <th>0</th>\n",
       "      <td>b128</td>\n",
       "      <td>0</td>\n",
       "      <td>45.0</td>\n",
       "      <td>0</td>\n",
       "      <td>Capomulin</td>\n",
       "      <td>Female</td>\n",
       "      <td>9</td>\n",
       "      <td>22</td>\n",
       "    </tr>\n",
       "    <tr>\n",
       "      <th>1</th>\n",
       "      <td>f932</td>\n",
       "      <td>0</td>\n",
       "      <td>45.0</td>\n",
       "      <td>0</td>\n",
       "      <td>Ketapril</td>\n",
       "      <td>Male</td>\n",
       "      <td>15</td>\n",
       "      <td>29</td>\n",
       "    </tr>\n",
       "    <tr>\n",
       "      <th>2</th>\n",
       "      <td>g107</td>\n",
       "      <td>0</td>\n",
       "      <td>45.0</td>\n",
       "      <td>0</td>\n",
       "      <td>Ketapril</td>\n",
       "      <td>Female</td>\n",
       "      <td>2</td>\n",
       "      <td>29</td>\n",
       "    </tr>\n",
       "    <tr>\n",
       "      <th>3</th>\n",
       "      <td>a457</td>\n",
       "      <td>0</td>\n",
       "      <td>45.0</td>\n",
       "      <td>0</td>\n",
       "      <td>Ketapril</td>\n",
       "      <td>Female</td>\n",
       "      <td>11</td>\n",
       "      <td>30</td>\n",
       "    </tr>\n",
       "    <tr>\n",
       "      <th>4</th>\n",
       "      <td>c819</td>\n",
       "      <td>0</td>\n",
       "      <td>45.0</td>\n",
       "      <td>0</td>\n",
       "      <td>Ketapril</td>\n",
       "      <td>Male</td>\n",
       "      <td>21</td>\n",
       "      <td>25</td>\n",
       "    </tr>\n",
       "  </tbody>\n",
       "</table>\n",
       "</div>"
      ],
      "text/plain": [
       "  Mouse ID  Timepoint  Tumor Volume (mm3)  Metastatic Sites Drug Regimen  \\\n",
       "0     b128          0                45.0                 0    Capomulin   \n",
       "1     f932          0                45.0                 0     Ketapril   \n",
       "2     g107          0                45.0                 0     Ketapril   \n",
       "3     a457          0                45.0                 0     Ketapril   \n",
       "4     c819          0                45.0                 0     Ketapril   \n",
       "\n",
       "      Sex  Age_months  Weight (g)  \n",
       "0  Female           9          22  \n",
       "1    Male          15          29  \n",
       "2  Female           2          29  \n",
       "3  Female          11          30  \n",
       "4    Male          21          25  "
      ]
     },
     "execution_count": 1,
     "metadata": {},
     "output_type": "execute_result"
    }
   ],
   "source": [
    "# Dependencies and Setup\n",
    "import matplotlib.pyplot as plt\n",
    "import pandas as pd\n",
    "import scipy.stats as st\n",
    "import numpy as np\n",
    "\n",
    "# Study data files\n",
    "mouse_metadata_path = \"data/Mouse_metadata.csv\"\n",
    "study_results_path = \"data/Study_results.csv\"\n",
    "\n",
    "# Read the mouse data and the study results\n",
    "mouse_metadata = pd.read_csv(mouse_metadata_path)\n",
    "study_results = pd.read_csv(study_results_path)\n",
    "\n",
    "# Combine the data into a single DataFrame\n",
    "mouse_study_df = pd.merge(study_results, \n",
    "                          mouse_metadata,\n",
    "                          on='Mouse ID',\n",
    "                          how='left')\n",
    "\n",
    "# Display the data table for preview\n",
    "mouse_study_df.head()"
   ]
  },
  {
   "cell_type": "code",
   "execution_count": 33,
   "metadata": {},
   "outputs": [
    {
     "name": "stdout",
     "output_type": "stream",
     "text": [
      "249\n"
     ]
    }
   ],
   "source": [
    "# Checking the number of mice.\n",
    "mouse_counts = mouse_study_df['Mouse ID'].nunique()\n",
    "print(mouse_counts)\n"
   ]
  },
  {
   "cell_type": "code",
   "execution_count": 34,
   "metadata": {},
   "outputs": [
    {
     "name": "stdout",
     "output_type": "stream",
     "text": [
      "g989    13\n",
      "b128    10\n",
      "q787    10\n",
      "s337    10\n",
      "q511    10\n",
      "        ..\n",
      "f932     1\n",
      "b447     1\n",
      "u153     1\n",
      "t573     1\n",
      "o848     1\n",
      "Name: Mouse ID, Length: 249, dtype: int64\n"
     ]
    }
   ],
   "source": [
    "# Our data should be uniquely identified by Mouse ID and Timepoint\n",
    "# Get the duplicate mice by ID number that shows up for Mouse ID and Timepoint. \n",
    "mouse_counts = mouse_study_df['Mouse ID'].value_counts()\n",
    "print(mouse_counts)\n"
   ]
  },
  {
   "cell_type": "code",
   "execution_count": 35,
   "metadata": {},
   "outputs": [
    {
     "data": {
      "text/html": [
       "<div>\n",
       "<style scoped>\n",
       "    .dataframe tbody tr th:only-of-type {\n",
       "        vertical-align: middle;\n",
       "    }\n",
       "\n",
       "    .dataframe tbody tr th {\n",
       "        vertical-align: top;\n",
       "    }\n",
       "\n",
       "    .dataframe thead th {\n",
       "        text-align: right;\n",
       "    }\n",
       "</style>\n",
       "<table border=\"1\" class=\"dataframe\">\n",
       "  <thead>\n",
       "    <tr style=\"text-align: right;\">\n",
       "      <th></th>\n",
       "      <th>Mouse ID</th>\n",
       "      <th>Timepoint</th>\n",
       "      <th>Tumor Volume (mm3)</th>\n",
       "      <th>Metastatic Sites</th>\n",
       "      <th>Drug Regimen</th>\n",
       "      <th>Sex</th>\n",
       "      <th>Age_months</th>\n",
       "      <th>Weight (g)</th>\n",
       "    </tr>\n",
       "  </thead>\n",
       "  <tbody>\n",
       "    <tr>\n",
       "      <th>0</th>\n",
       "      <td>b128</td>\n",
       "      <td>0</td>\n",
       "      <td>45.0</td>\n",
       "      <td>0</td>\n",
       "      <td>Capomulin</td>\n",
       "      <td>Female</td>\n",
       "      <td>9</td>\n",
       "      <td>22</td>\n",
       "    </tr>\n",
       "    <tr>\n",
       "      <th>1</th>\n",
       "      <td>f932</td>\n",
       "      <td>0</td>\n",
       "      <td>45.0</td>\n",
       "      <td>0</td>\n",
       "      <td>Ketapril</td>\n",
       "      <td>Male</td>\n",
       "      <td>15</td>\n",
       "      <td>29</td>\n",
       "    </tr>\n",
       "    <tr>\n",
       "      <th>2</th>\n",
       "      <td>g107</td>\n",
       "      <td>0</td>\n",
       "      <td>45.0</td>\n",
       "      <td>0</td>\n",
       "      <td>Ketapril</td>\n",
       "      <td>Female</td>\n",
       "      <td>2</td>\n",
       "      <td>29</td>\n",
       "    </tr>\n",
       "    <tr>\n",
       "      <th>3</th>\n",
       "      <td>a457</td>\n",
       "      <td>0</td>\n",
       "      <td>45.0</td>\n",
       "      <td>0</td>\n",
       "      <td>Ketapril</td>\n",
       "      <td>Female</td>\n",
       "      <td>11</td>\n",
       "      <td>30</td>\n",
       "    </tr>\n",
       "    <tr>\n",
       "      <th>4</th>\n",
       "      <td>c819</td>\n",
       "      <td>0</td>\n",
       "      <td>45.0</td>\n",
       "      <td>0</td>\n",
       "      <td>Ketapril</td>\n",
       "      <td>Male</td>\n",
       "      <td>21</td>\n",
       "      <td>25</td>\n",
       "    </tr>\n",
       "  </tbody>\n",
       "</table>\n",
       "</div>"
      ],
      "text/plain": [
       "  Mouse ID  Timepoint  Tumor Volume (mm3)  Metastatic Sites Drug Regimen  \\\n",
       "0     b128          0                45.0                 0    Capomulin   \n",
       "1     f932          0                45.0                 0     Ketapril   \n",
       "2     g107          0                45.0                 0     Ketapril   \n",
       "3     a457          0                45.0                 0     Ketapril   \n",
       "4     c819          0                45.0                 0     Ketapril   \n",
       "\n",
       "      Sex  Age_months  Weight (g)  \n",
       "0  Female           9          22  \n",
       "1    Male          15          29  \n",
       "2  Female           2          29  \n",
       "3  Female          11          30  \n",
       "4    Male          21          25  "
      ]
     },
     "execution_count": 35,
     "metadata": {},
     "output_type": "execute_result"
    }
   ],
   "source": [
    "# Create a clean DataFrame by dropping the duplicate mouse by its ID.\n",
    "\n",
    "clean_mouse_study_df = mouse_study_df.loc[mouse_study_df['Mouse ID'] != 'g989']\n",
    "clean_mouse_study_df.head()# Create a clean DataFrame by dropping the duplicate mouse by its ID.\n"
   ]
  },
  {
   "cell_type": "code",
   "execution_count": 36,
   "metadata": {},
   "outputs": [
    {
     "name": "stdout",
     "output_type": "stream",
     "text": [
      "248\n"
     ]
    }
   ],
   "source": [
    "# Checking the number of mice in the clean DataFrame.\n",
    "cleaned_mouse_counts = clean_mouse_study_df['Mouse ID'].nunique()\n",
    "print(cleaned_mouse_counts)\n"
   ]
  },
  {
   "cell_type": "markdown",
   "metadata": {},
   "source": [
    "## Summary Statistics"
   ]
  },
  {
   "cell_type": "code",
   "execution_count": 37,
   "metadata": {},
   "outputs": [
    {
     "data": {
      "text/html": [
       "<div>\n",
       "<style scoped>\n",
       "    .dataframe tbody tr th:only-of-type {\n",
       "        vertical-align: middle;\n",
       "    }\n",
       "\n",
       "    .dataframe tbody tr th {\n",
       "        vertical-align: top;\n",
       "    }\n",
       "\n",
       "    .dataframe thead th {\n",
       "        text-align: right;\n",
       "    }\n",
       "</style>\n",
       "<table border=\"1\" class=\"dataframe\">\n",
       "  <thead>\n",
       "    <tr style=\"text-align: right;\">\n",
       "      <th></th>\n",
       "      <th>Mean Tumor Volume</th>\n",
       "      <th>Median Tumor Volume</th>\n",
       "      <th>Tumor Volume Variance</th>\n",
       "      <th>Tumor Volume Std. Dev.</th>\n",
       "      <th>Tumor Volume Std. Err.</th>\n",
       "    </tr>\n",
       "    <tr>\n",
       "      <th>Drug Regimen</th>\n",
       "      <th></th>\n",
       "      <th></th>\n",
       "      <th></th>\n",
       "      <th></th>\n",
       "      <th></th>\n",
       "    </tr>\n",
       "  </thead>\n",
       "  <tbody>\n",
       "    <tr>\n",
       "      <th>Capomulin</th>\n",
       "      <td>40.675741</td>\n",
       "      <td>41.557809</td>\n",
       "      <td>24.947764</td>\n",
       "      <td>4.994774</td>\n",
       "      <td>0.329346</td>\n",
       "    </tr>\n",
       "    <tr>\n",
       "      <th>Ceftamin</th>\n",
       "      <td>52.591172</td>\n",
       "      <td>51.776157</td>\n",
       "      <td>39.290177</td>\n",
       "      <td>6.268188</td>\n",
       "      <td>0.469821</td>\n",
       "    </tr>\n",
       "    <tr>\n",
       "      <th>Infubinol</th>\n",
       "      <td>52.884795</td>\n",
       "      <td>51.820584</td>\n",
       "      <td>43.128684</td>\n",
       "      <td>6.567243</td>\n",
       "      <td>0.492236</td>\n",
       "    </tr>\n",
       "    <tr>\n",
       "      <th>Ketapril</th>\n",
       "      <td>55.235638</td>\n",
       "      <td>53.698743</td>\n",
       "      <td>68.553577</td>\n",
       "      <td>8.279709</td>\n",
       "      <td>0.603860</td>\n",
       "    </tr>\n",
       "    <tr>\n",
       "      <th>Naftisol</th>\n",
       "      <td>54.331565</td>\n",
       "      <td>52.509285</td>\n",
       "      <td>66.173479</td>\n",
       "      <td>8.134708</td>\n",
       "      <td>0.596466</td>\n",
       "    </tr>\n",
       "    <tr>\n",
       "      <th>Placebo</th>\n",
       "      <td>54.033581</td>\n",
       "      <td>52.288934</td>\n",
       "      <td>61.168083</td>\n",
       "      <td>7.821003</td>\n",
       "      <td>0.581331</td>\n",
       "    </tr>\n",
       "    <tr>\n",
       "      <th>Propriva</th>\n",
       "      <td>52.320930</td>\n",
       "      <td>50.446266</td>\n",
       "      <td>43.852013</td>\n",
       "      <td>6.622085</td>\n",
       "      <td>0.544332</td>\n",
       "    </tr>\n",
       "    <tr>\n",
       "      <th>Ramicane</th>\n",
       "      <td>40.216745</td>\n",
       "      <td>40.673236</td>\n",
       "      <td>23.486704</td>\n",
       "      <td>4.846308</td>\n",
       "      <td>0.320955</td>\n",
       "    </tr>\n",
       "    <tr>\n",
       "      <th>Stelasyn</th>\n",
       "      <td>54.233149</td>\n",
       "      <td>52.431737</td>\n",
       "      <td>59.450562</td>\n",
       "      <td>7.710419</td>\n",
       "      <td>0.573111</td>\n",
       "    </tr>\n",
       "    <tr>\n",
       "      <th>Zoniferol</th>\n",
       "      <td>53.236507</td>\n",
       "      <td>51.818479</td>\n",
       "      <td>48.533355</td>\n",
       "      <td>6.966589</td>\n",
       "      <td>0.516398</td>\n",
       "    </tr>\n",
       "  </tbody>\n",
       "</table>\n",
       "</div>"
      ],
      "text/plain": [
       "              Mean Tumor Volume  Median Tumor Volume  Tumor Volume Variance  \\\n",
       "Drug Regimen                                                                  \n",
       "Capomulin             40.675741            41.557809              24.947764   \n",
       "Ceftamin              52.591172            51.776157              39.290177   \n",
       "Infubinol             52.884795            51.820584              43.128684   \n",
       "Ketapril              55.235638            53.698743              68.553577   \n",
       "Naftisol              54.331565            52.509285              66.173479   \n",
       "Placebo               54.033581            52.288934              61.168083   \n",
       "Propriva              52.320930            50.446266              43.852013   \n",
       "Ramicane              40.216745            40.673236              23.486704   \n",
       "Stelasyn              54.233149            52.431737              59.450562   \n",
       "Zoniferol             53.236507            51.818479              48.533355   \n",
       "\n",
       "              Tumor Volume Std. Dev.  Tumor Volume Std. Err.  \n",
       "Drug Regimen                                                  \n",
       "Capomulin                   4.994774                0.329346  \n",
       "Ceftamin                    6.268188                0.469821  \n",
       "Infubinol                   6.567243                0.492236  \n",
       "Ketapril                    8.279709                0.603860  \n",
       "Naftisol                    8.134708                0.596466  \n",
       "Placebo                     7.821003                0.581331  \n",
       "Propriva                    6.622085                0.544332  \n",
       "Ramicane                    4.846308                0.320955  \n",
       "Stelasyn                    7.710419                0.573111  \n",
       "Zoniferol                   6.966589                0.516398  "
      ]
     },
     "execution_count": 37,
     "metadata": {},
     "output_type": "execute_result"
    }
   ],
   "source": [
    "# Generate a summary statistics table of mean, median, variance, standard deviation, and SEM of the tumor volume for each regimen\n",
    "\n",
    "# Use groupby and summary statistical methods to calculate the following properties of each drug regimen: \n",
    "# mean\n",
    "mean_by_regimen_df = clean_mouse_study_df.groupby('Drug Regimen').mean()\n",
    "mean_tumor_volume = mean_by_regimen_df['Tumor Volume (mm3)']\n",
    "#median\n",
    "median_by_regimen_df = clean_mouse_study_df.groupby('Drug Regimen').median()\n",
    "median_tumor_volume = median_by_regimen_df['Tumor Volume (mm3)']\n",
    "#variane\n",
    "variance_by_regimen_df = clean_mouse_study_df.groupby('Drug Regimen').var()\n",
    "tumor_volume_variance = variance_by_regimen_df['Tumor Volume (mm3)']\n",
    "#standard deviation\n",
    "std_by_regimen_df = clean_mouse_study_df.groupby('Drug Regimen').std()\n",
    "tumor_volume_std = std_by_regimen_df['Tumor Volume (mm3)']\n",
    "#standard error\n",
    "sem_by_regimen_df = clean_mouse_study_df.groupby('Drug Regimen').sem()\n",
    "tumor_volume_std_sem = sem_by_regimen_df['Tumor Volume (mm3)']\n",
    "\n",
    "    \n",
    "#Assemble the resulting series into a single summary DataFrame.\n",
    "regimen_summary_df = pd.DataFrame({    \n",
    "    'Mean Tumor Volume':mean_tumor_volume,\n",
    "    'Median Tumor Volume':median_tumor_volume,\n",
    "    'Tumor Volume Variance':tumor_volume_variance,\n",
    "    'Tumor Volume Std. Dev.':tumor_volume_std,\n",
    "    'Tumor Volume Std. Err.':tumor_volume_std_sem})\n",
    "regimen_summary_df"
   ]
  },
  {
   "cell_type": "code",
   "execution_count": 38,
   "metadata": {},
   "outputs": [
    {
     "name": "stdout",
     "output_type": "stream",
     "text": [
      "                   mean     median        var       std       sem\n",
      "Drug Regimen                                                     \n",
      "Capomulin     40.675741  41.557809  24.947764  4.994774  0.329346\n",
      "Ceftamin      52.591172  51.776157  39.290177  6.268188  0.469821\n",
      "Infubinol     52.884795  51.820584  43.128684  6.567243  0.492236\n",
      "Ketapril      55.235638  53.698743  68.553577  8.279709  0.603860\n",
      "Naftisol      54.331565  52.509285  66.173479  8.134708  0.596466\n",
      "Placebo       54.033581  52.288934  61.168083  7.821003  0.581331\n",
      "Propriva      52.320930  50.446266  43.852013  6.622085  0.544332\n",
      "Ramicane      40.216745  40.673236  23.486704  4.846308  0.320955\n",
      "Stelasyn      54.233149  52.431737  59.450562  7.710419  0.573111\n",
      "Zoniferol     53.236507  51.818479  48.533355  6.966589  0.516398\n"
     ]
    }
   ],
   "source": [
    "# Using the aggregation method, produce the same summary statistics in a single line\n",
    "mouse_study_by_regimen_df = clean_mouse_study_df.groupby('Drug Regimen')\n",
    "regimen_summary_agg = mouse_study_by_regimen_df['Tumor Volume (mm3)'].agg(['mean', 'median', 'var', 'std', 'sem'])\n",
    "print(regimen_summary_agg)\n"
   ]
  },
  {
   "cell_type": "markdown",
   "metadata": {},
   "source": [
    "## Bar and Pie Charts"
   ]
  },
  {
   "cell_type": "code",
   "execution_count": 39,
   "metadata": {},
   "outputs": [
    {
     "data": {
      "text/plain": [
       "Text(0, 0.5, '# Of Observed Mouse Timepoints')"
      ]
     },
     "execution_count": 39,
     "metadata": {},
     "output_type": "execute_result"
    },
    {
     "data": {
      "image/png": "[encoded data removed]",
      "text/plain": [
       "<Figure size 432x288 with 1 Axes>"
      ]
     },
     "metadata": {
      "needs_background": "light"
     },
     "output_type": "display_data"
    }
   ],
   "source": [
    "# Generate a bar plot showing the total number of rows (Mouse ID/Timepoints) for each drug regimen using Pandas.\n",
    "\n",
    "regimen_count = mouse_study_by_regimen_df['Drug Regimen'].count()\n",
    "\n",
    "sorted_regimen_count = regimen_count.sort_values(ascending=False)\n",
    "\n",
    "sorted_regimen_chart = sorted_regimen_count.plot.bar(x='Drug Regimen',y='', legend=False)\n",
    "sorted_regimen_chart.set_ylabel(\"# Of Observed Mouse Timepoints\")"
   ]
  },
  {
   "cell_type": "code",
   "execution_count": 40,
   "metadata": {},
   "outputs": [
    {
     "data": {
      "text/plain": [
       "pandas.core.series.Series"
      ]
     },
     "execution_count": 40,
     "metadata": {},
     "output_type": "execute_result"
    }
   ],
   "source": [
    "type(regimen_count)"
   ]
  },
  {
   "cell_type": "code",
   "execution_count": 41,
   "metadata": {},
   "outputs": [
    {
     "name": "stdout",
     "output_type": "stream",
     "text": [
      "I am colorblind, I think the color is Blue\n"
     ]
    },
    {
     "data": {
      "image/png": "[encoded data removed]",
      "text/plain": [
       "<Figure size 432x288 with 1 Axes>"
      ]
     },
     "metadata": {
      "needs_background": "light"
     },
     "output_type": "display_data"
    }
   ],
   "source": [
    "# Generate a bar plot showing the total number of rows (Mouse ID/Timepoints) for each drug regimen using Pandas.\n",
    "#Create a new dataframe of the variables we are looking to plot\n",
    "timepoints = clean_mouse_study_df['Drug Regimen'].value_counts()\n",
    "timepoints_df = timepoints.reset_index()\n",
    "timepoints_df.columns = ['Drug Regimen','Timepoints']\n",
    "\n",
    "x_axis = np.arange(len(timepoints_df))\n",
    "tick_locations = [value+.4 for value in x_axis]\n",
    "\n",
    "print(\"I am colorblind, I think the color is Blue\")\n",
    "\n",
    "plt.figure\n",
    "plt.bar(x_axis, timepoints_df['Timepoints'], color='b', alpha=0.5, align=\"edge\")\n",
    "plt.xticks(tick_locations, timepoints_df['Drug Regimen'], rotation=\"vertical\")\n",
    "plt.xlabel(\"Drug Regimen\")\n",
    "plt.ylabel(\"# Of Observed Mouse Timepoints\")\n",
    "plt.show()"
   ]
  },
  {
   "cell_type": "code",
   "execution_count": 42,
   "metadata": {},
   "outputs": [
    {
     "data": {
      "text/plain": [
       "<AxesSubplot:ylabel='Sex'>"
      ]
     },
     "execution_count": 42,
     "metadata": {},
     "output_type": "execute_result"
    },
    {
     "data": {
      "image/png": "[encoded data removed]",
      "text/plain": [
       "<Figure size 432x288 with 1 Axes>"
      ]
     },
     "metadata": {},
     "output_type": "display_data"
    }
   ],
   "source": [
    "# Generate a pie plot showing the distribution of female versus male mice using Pandas\n",
    "sex_counts = clean_mouse_study_df['Sex'].value_counts()\n",
    "sex_counts.plot.pie(autopct='%1.1f%%')\n"
   ]
  },
  {
   "cell_type": "code",
   "execution_count": 43,
   "metadata": {},
   "outputs": [
    {
     "data": {
      "image/png": "[encoded data removed]",
      "text/plain": [
       "<Figure size 432x288 with 1 Axes>"
      ]
     },
     "metadata": {},
     "output_type": "display_data"
    }
   ],
   "source": [
    "# Generate a pie plot showing the distribution of female versus male mice using pyplot\n",
    "sex_counts = clean_mouse_study_df['Sex'].value_counts()\n",
    "plt.pie(sex_counts, labels=sex_counts.index, autopct='%1.1f%%')\n",
    "plt.title('Sex', loc='left',pad=-10,y=0.5, rotation=90)\n",
    "plt.show()"
   ]
  },
  {
   "cell_type": "markdown",
   "metadata": {},
   "source": [
    "## Quartiles, Outliers and Boxplots"
   ]
  },
  {
   "cell_type": "code",
   "execution_count": 44,
   "metadata": {},
   "outputs": [],
   "source": [
    "#create a new dataframe containing only the drugs we want\n",
    "\n",
    "four_regimen = ['Capomulin','Ramicane','Infubinol','Ceftamin']\n",
    "four_mouse_study_df = clean_mouse_study_df[clean_mouse_study_df['Drug Regimen'].isin(four_regimen)]\n",
    "\n",
    "#groupby mouse ID and then keep only the rows that have max timepoint per mouse id\n",
    "\n",
    "max_timepoint_index = four_mouse_study_df.groupby('Mouse ID')['Timepoint'].idxmax()\n",
    "four_grouped_last_df = four_mouse_study_df.loc[max_timepoint_index]"
   ]
  },
  {
   "cell_type": "code",
   "execution_count": 45,
   "metadata": {},
   "outputs": [
    {
     "name": "stdout",
     "output_type": "stream",
     "text": [
      "Capomulin's potential outliers: [],[]\n",
      "Infubinol's potential outliers: ['c326'],[36.3213458]\n",
      "Ramicane's potential outliers: [],[]\n",
      "Ceftamin's potential outliers: [],[]\n"
     ]
    }
   ],
   "source": [
    "# Put treatments into a list for for loop (and later for plot labels)\n",
    "\n",
    "list_of_treatments = four_grouped_last_df['Drug Regimen'].unique()\n",
    "\n",
    "# Create empty list to fill with tumor vol data (for plotting)\n",
    "# Locate the rows which contain mice on each drug and get the tumor volumes\n",
    "\n",
    "tumor_data_Capomulin = []\n",
    "tumor_data_Infubinol = []\n",
    "tumor_data_Ramicane = []\n",
    "tumor_data_Ceftamin = []\n",
    "\n",
    "for index, row in four_grouped_last_df.iterrows():\n",
    "    if row['Drug Regimen'] == 'Capomulin':\n",
    "        tumor_data_Capomulin.append(row['Tumor Volume (mm3)'])\n",
    "    elif row['Drug Regimen'] == 'Infubinol':\n",
    "        tumor_data_Infubinol.append(row['Tumor Volume (mm3)'])\n",
    "    elif row['Drug Regimen'] == 'Ramicane':\n",
    "        tumor_data_Ramicane.append(row['Tumor Volume (mm3)'])\n",
    "    elif row['Drug Regimen'] == 'Ceftamin':\n",
    "        tumor_data_Ceftamin.append(row['Tumor Volume (mm3)'])\n",
    "\n",
    "\n",
    "#this cannot be the best way but I cannot run the .quiantile functrion on a list so I will mke four different df\n",
    "\n",
    "capo_data = {'Capomulin':tumor_data_Capomulin}\n",
    "capo_df = pd.DataFrame(capo_data)\n",
    "capo = capo_df['Capomulin']\n",
    "infu_data = {'Infubinol':tumor_data_Infubinol}\n",
    "infu_df = pd.DataFrame(infu_data)\n",
    "infu = infu_df['Infubinol']\n",
    "rami_data = {'Ramicane':tumor_data_Ramicane}\n",
    "rami_df = pd.DataFrame(rami_data)\n",
    "rami = rami_df['Ramicane']\n",
    "cefa_data = {'Ceftamin':tumor_data_Ceftamin}\n",
    "cefa_df = pd.DataFrame(cefa_data)\n",
    "cefa = cefa_df['Ceftamin']\n",
    "\n",
    "# Calculate the IQR and quantitatively determine if there are any potential outliers. \n",
    "\n",
    "capo_quartiles = capo.quantile([.25,.5,.75])\n",
    "infu_quartiles = infu.quantile([.25,.5,.75])\n",
    "rami_quartiles = rami.quantile([.25,.5,.75])\n",
    "cefa_quartiles = cefa.quantile([.25,.5,.75])\n",
    "\n",
    "capo_lowerq = capo_quartiles[0.25]\n",
    "capo_upperq = capo_quartiles[0.75]\n",
    "capo_iqr = capo_upperq-capo_lowerq\n",
    "capo_lower_bound = capo_lowerq -(1.5*capo_iqr)\n",
    "capo_upper_bound = capo_upperq +(1.5*capo_iqr)\n",
    "\n",
    "infu_lowerq = infu_quartiles[0.25]\n",
    "infu_upperq = infu_quartiles[0.75]\n",
    "infu_iqr = infu_upperq-infu_lowerq\n",
    "infu_lower_bound = infu_lowerq -(1.5*infu_iqr)\n",
    "infu_upper_bound = infu_upperq +(1.5*infu_iqr)\n",
    "\n",
    "\n",
    "rami_lowerq = rami_quartiles[0.25]\n",
    "rami_upperq = rami_quartiles[0.75]\n",
    "rami_iqr = rami_upperq-rami_lowerq\n",
    "rami_lower_bound = rami_lowerq -(1.5*rami_iqr)\n",
    "rami_upper_bound = rami_upperq +(1.5*rami_iqr)\n",
    "\n",
    "\n",
    "cefa_lowerq = cefa_quartiles[0.25]\n",
    "cefa_upperq = cefa_quartiles[0.75]\n",
    "cefa_iqr = cefa_upperq-cefa_lowerq\n",
    "cefa_lower_bound = cefa_lowerq -(1.5*cefa_iqr)\n",
    "cefa_upper_bound = cefa_upperq +(1.5*cefa_iqr)\n",
    "\n",
    "\n",
    "# Determine outliers using upper and lower bounds\n",
    "\n",
    "only_capo_df = four_grouped_last_df[four_grouped_last_df['Drug Regimen'] == 'Capmulin']\n",
    "only_infu_df = four_grouped_last_df[four_grouped_last_df['Drug Regimen'] == 'Infubinol' ]\n",
    "only_rami_df = four_grouped_last_df[four_grouped_last_df['Drug Regimen'] == 'Ramicane']\n",
    "only_cefa_df = four_grouped_last_df[four_grouped_last_df['Drug Regimen'] == 'Ceftamin']\n",
    "\n",
    "outliers_capo_df = only_capo_df[(only_capo_df['Tumor Volume (mm3)'] <= capo_lower_bound) | (only_capo_df['Tumor Volume (mm3)'] >= capo_upper_bound)]\n",
    "outliers_infu_df = only_infu_df[(only_infu_df['Tumor Volume (mm3)'] <= infu_lower_bound) | (only_infu_df['Tumor Volume (mm3)'] >= infu_upper_bound)]\n",
    "outliers_rami_df = only_rami_df[(only_rami_df['Tumor Volume (mm3)'] <= rami_lower_bound) | (only_rami_df['Tumor Volume (mm3)'] >= rami_upper_bound)]\n",
    "outliers_cefa_df = only_cefa_df[(only_cefa_df['Tumor Volume (mm3)'] <= cefa_lower_bound) | (only_cefa_df['Tumor Volume (mm3)'] >= cefa_upper_bound)]\n",
    "\n",
    "tumor_outliers_Capomulin_mouse = outliers_capo_df['Mouse ID'].tolist()\n",
    "tumor_outliers_Infubinol_mouse = outliers_infu_df['Mouse ID'].tolist()\n",
    "tumor_outliers_Ramicane_mouse = outliers_rami_df['Mouse ID'].tolist()\n",
    "tumor_outliers_Ceftamin_mouse = outliers_cefa_df['Mouse ID'].tolist()\n",
    "\n",
    "tumor_outliers_Capomulin_volume = outliers_capo_df['Tumor Volume (mm3)'].tolist()\n",
    "tumor_outliers_Infubinol_volume = outliers_infu_df['Tumor Volume (mm3)'].tolist()\n",
    "tumor_outliers_Ramicane_volume = outliers_rami_df['Tumor Volume (mm3)'].tolist()\n",
    "tumor_outliers_Ceftamin_volume = outliers_cefa_df['Tumor Volume (mm3)'].tolist()\n",
    "\n",
    "\n",
    "print(f\"Capomulin's potential outliers: {tumor_outliers_Capomulin_mouse},{tumor_outliers_Capomulin_volume}\")\n",
    "print(f\"Infubinol's potential outliers: {tumor_outliers_Infubinol_mouse},{tumor_outliers_Infubinol_volume}\")\n",
    "print(f\"Ramicane's potential outliers: {tumor_outliers_Ramicane_mouse},{tumor_outliers_Ramicane_volume}\")\n",
    "print(f\"Ceftamin's potential outliers: {tumor_outliers_Ceftamin_mouse},{tumor_outliers_Ceftamin_volume}\")"
   ]
  },
  {
   "cell_type": "code",
   "execution_count": 46,
   "metadata": {},
   "outputs": [
    {
     "ename": "SyntaxError",
     "evalue": "EOL while scanning string literal (4063923083.py, line 1)",
     "output_type": "error",
     "traceback": [
      "\u001b[1;36m  Input \u001b[1;32mIn [46]\u001b[1;36m\u001b[0m\n\u001b[1;33m    Capomulin's potential outliers: Series([], Name: Tumor Volume (mm3), dtype: float64)\u001b[0m\n\u001b[1;37m                                                                                        ^\u001b[0m\n\u001b[1;31mSyntaxError\u001b[0m\u001b[1;31m:\u001b[0m EOL while scanning string literal\n"
     ]
    }
   ],
   "source": [
    "Capomulin's potential outliers: Series([], Name: Tumor Volume (mm3), dtype: float64)\n",
    "Ramicane's potential outliers: Series([], Name: Tumor Volume (mm3), dtype: float64)\n",
    "Infubinol's potential outliers: 31    36.321346\n",
    "Name: Tumor Volume (mm3), dtype: float64\n",
    "Ceftamin's potential outliers: Series([], Name: Tumor Volume (mm3), dtype: float64)\n",
    "\n",
    "print(f\"The lower quartile of temperatures is: {lowerq}\")\n",
    "print(f\"The upper quartile of temperatures is: {upperq}\")\n",
    "print(f\"The interquartile range of temperatures is: {iqr}\")\n",
    "print(f\"The the median of temperatures is: {quartiles[0.5]} \")"
   ]
  },
  {
   "cell_type": "code",
   "execution_count": 47,
   "metadata": {},
   "outputs": [
    {
     "data": {
      "image/png": "[encoded data removed]",
      "text/plain": [
       "<Figure size 432x288 with 1 Axes>"
      ]
     },
     "metadata": {
      "needs_background": "light"
     },
     "output_type": "display_data"
    }
   ],
   "source": [
    "# Generate a box plot that shows the distrubution of the tumor volume for each treatment group.\n",
    "\n",
    "data = [tumor_data_Capomulin, tumor_data_Ramicane, tumor_data_Infubinol, tumor_data_Ceftamin]\n",
    "fig, ax = plt.subplots()\n",
    "ax.boxplot(data)\n",
    "ax.set_ylabel('Final Volume (mm3)')\n",
    "ax.set_xticklabels(['Capomulin','Ramicane','Infubinol','Ceftamin'])\n",
    "plt.show()\n"
   ]
  },
  {
   "cell_type": "markdown",
   "metadata": {},
   "source": [
    "## Line and Scatter Plots"
   ]
  },
  {
   "cell_type": "code",
   "execution_count": 48,
   "metadata": {},
   "outputs": [
    {
     "data": {
      "image/png": "[encoded data removed]",
      "text/plain": [
       "<Figure size 432x288 with 1 Axes>"
      ]
     },
     "metadata": {
      "needs_background": "light"
     },
     "output_type": "display_data"
    }
   ],
   "source": [
    "# Generate a line plot of tumor volume vs. time point for a single mouse treated with Capomulin\n",
    "mouse_u364_df = clean_mouse_study_df[clean_mouse_study_df['Mouse ID'] == \"u364\"]\n",
    "plt.plot(mouse_u364_df['Timepoint'],mouse_u364_df['Tumor Volume (mm3)'])\n",
    "plt.xlabel(\"Timepoint ('Days')\")\n",
    "plt.ylabel('Tumor Volume (mm3)')\n",
    "plt.title('Capomulin Treatment of Mouse u364')\n",
    "plt.show()\n"
   ]
  },
  {
   "cell_type": "code",
   "execution_count": 49,
   "metadata": {},
   "outputs": [
    {
     "data": {
      "image/png": "[encoded data removed]",
      "text/plain": [
       "<Figure size 432x288 with 1 Axes>"
      ]
     },
     "metadata": {
      "needs_background": "light"
     },
     "output_type": "display_data"
    }
   ],
   "source": [
    "# Generate a scatter plot of mouse weight vs. the average observed tumor volume for the entire Capomulin regimen\n",
    "\n",
    "#create a dataframe of the mice treated with capomuling\n",
    "capomulin_df = clean_mouse_study_df[clean_mouse_study_df['Drug Regimen'] == \"Capomulin\"]\n",
    "\n",
    "#group that dataframe by mouse id and take the mean for tumor volume\n",
    "volume_mean = capomulin_df.groupby('Mouse ID')['Tumor Volume (mm3)'].mean()\n",
    "\n",
    "#create a series of mean weight the same way\n",
    "weight_mean = capomulin_df.groupby('Mouse ID')['Weight (g)'].mean()\n",
    "\n",
    "#combine the two lists into a dataframe\n",
    "volume_weight_df = pd.concat([volume_mean, weight_mean], axis=1)\n",
    "\n",
    "\n",
    "#plot the new dataframe\n",
    "plt.scatter(weight_mean,volume_mean)\n",
    "plt.xlabel('Weight (g)')\n",
    "plt.ylabel('Average Tumor Volume (mm3)')\n",
    "plt.show()"
   ]
  },
  {
   "cell_type": "markdown",
   "metadata": {},
   "source": [
    "## Correlation and Regression"
   ]
  },
  {
   "cell_type": "code",
   "execution_count": 53,
   "metadata": {},
   "outputs": [
    {
     "name": "stdout",
     "output_type": "stream",
     "text": [
      "The correlation between mouse weight and the average tumor volume is 0.84\n"
     ]
    },
    {
     "data": {
      "image/png": "[encoded data removed]",
      "text/plain": [
       "<Figure size 432x288 with 1 Axes>"
      ]
     },
     "metadata": {
      "needs_background": "light"
     },
     "output_type": "display_data"
    }
   ],
   "source": [
    "# Perform a linear regression on the weight and volume\n",
    "\n",
    "from scipy import stats\n",
    "c_slope, c_int, c_r, c_p, c_std_err = stats.linregress(weight_mean,volume_mean)\n",
    "c_fit = c_slope * weight_mean+ c_int\n",
    "\n",
    "#find the pearson correlation\n",
    "r = volume_weight_df['Weight (g)'].corr(volume_weight_df['Tumor Volume (mm3)'], method='pearson')\n",
    "\n",
    "print(f\"The correlation between mouse weight and the average tumor volume is {r:.2f}\")\n",
    "\n",
    "plt.scatter(weight_mean,volume_mean)\n",
    "plt.xlabel('Weight (g)')\n",
    "plt.ylabel('Average Tumor Volume (mm3)')\n",
    "plt.plot(weight_mean, c_fit,\"--\",color=\"red\")\n",
    "plt.show()\n",
    "\n"
   ]
  },
  {
   "cell_type": "code",
   "execution_count": null,
   "metadata": {},
   "outputs": [],
   "source": []
  }
 ],
 "metadata": {
  "anaconda-cloud": {},
  "kernelspec": {
   "display_name": "PythonData",
   "language": "python",
   "name": "python3"
  },
  "language_info": {
   "codemirror_mode": {
    "name": "ipython",
    "version": 3
   },
   "file_extension": ".py",
   "mimetype": "text/x-python",
   "name": "python",
   "nbconvert_exporter": "python",
   "pygments_lexer": "ipython3",
   "version": "3.9.12"
  }
 },
 "nbformat": 4,
 "nbformat_minor": 4
}
